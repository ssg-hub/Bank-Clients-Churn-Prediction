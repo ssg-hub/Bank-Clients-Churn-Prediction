{
 "cells": [
  {
   "cell_type": "markdown",
   "id": "6b08cab2",
   "metadata": {},
   "source": [
    "## Import Libraries"
   ]
  },
  {
   "cell_type": "code",
   "execution_count": 4,
   "id": "4888cda7",
   "metadata": {},
   "outputs": [],
   "source": [
    "import pandas as pd\n",
    "import numpy as np\n",
    "import seaborn as sns\n",
    "import missingno as msno\n",
    "import sweetviz as sv\n",
    "import pandas_profiling as pp\n",
    "\n",
    "from sklearn.preprocessing import LabelEncoder, OneHotEncoder"
   ]
  },
  {
   "cell_type": "code",
   "execution_count": 2,
   "id": "53e0b5e2",
   "metadata": {},
   "outputs": [],
   "source": [
    "# This is to supress the warning messages (if any) generated in our code\n",
    "import warnings\n",
    "warnings.filterwarnings('ignore')"
   ]
  },
  {
   "cell_type": "code",
   "execution_count": 5,
   "id": "c08aa0d8",
   "metadata": {},
   "outputs": [],
   "source": [
    "# setting seaborn styling\n",
    "sns.set(style=\"ticks\", color_codes=True, palette='Dark2')"
   ]
  },
  {
   "cell_type": "markdown",
   "id": "801581b3",
   "metadata": {},
   "source": [
    "## Visual Exploration"
   ]
  },
  {
   "cell_type": "code",
   "execution_count": null,
   "id": "ebf1d463",
   "metadata": {},
   "outputs": [],
   "source": [
    "def exploartion(df)\n",
    "    \"\"\"\n",
    "    function to have an overview of the dataset\n",
    "    \"\"\"\n",
    "    # visual exploration = fill the details\n",
    "    profile = pp.ProfileReport(df, title = '######### Data Profile Report')\n",
    "    profile.to_file('######.html')\n",
    "    \n",
    "    # sweetviz report\n",
    "    my_report = sv.analyze(df)\n",
    "    my_report.show_html() # Default arguments will generate to \"SWEETVIZ_REPORT.html\"\n",
    "    \n",
    "    # more exploration\n",
    "    print(df.describe)\n",
    "    \n",
    "    "
   ]
  },
  {
   "cell_type": "markdown",
   "id": "0e842414",
   "metadata": {},
   "source": [
    "## Initial Cleaning"
   ]
  },
  {
   "cell_type": "code",
   "execution_count": 6,
   "id": "15965ee1",
   "metadata": {},
   "outputs": [
    {
     "ename": "SyntaxError",
     "evalue": "closing parenthesis ')' does not match opening parenthesis '[' (<ipython-input-6-2cbb44415d64>, line 34)",
     "output_type": "error",
     "traceback": [
      "\u001b[0;36m  File \u001b[0;32m\"<ipython-input-6-2cbb44415d64>\"\u001b[0;36m, line \u001b[0;32m34\u001b[0m\n\u001b[0;31m    cleaned_df = df.drop_duplicates(subset = [col_list_for_duplicate_removal)\u001b[0m\n\u001b[0m                                                                            ^\u001b[0m\n\u001b[0;31mSyntaxError\u001b[0m\u001b[0;31m:\u001b[0m closing parenthesis ')' does not match opening parenthesis '['\n"
     ]
    }
   ],
   "source": [
    "def inital_cleaning(df: pd.DataFrame) -> pd.DataFrame:\n",
    "    \"\"\"\n",
    "    function for initial cleaning tasks like\n",
    "    removing columns, duplicates.\n",
    "    \"\"\"\n",
    "    # remove last N columns not needed for analysis\n",
    "    df = df.iloc[: , :-N] #substitue for N\n",
    "    \n",
    "    # remove columns not needed for analysis\n",
    "    columns_to_be_removed = [] # fill in the list\n",
    "    df = df.drop(\n",
    "            columns = columns_to_be_removed\n",
    "        )\n",
    "    \n",
    "    # check for missin values\n",
    "    print(df.isna().sum().sum())\n",
    "    \n",
    "    # Visualizing the missing values\n",
    "    print(msno.matrix(df))\n",
    "\n",
    "    print(msno.heatmap(df))\n",
    "\n",
    "    print(msno.bar(df))\n",
    "    \n",
    "    # if a numeric column is object, change it to float\n",
    "    df[col] = pd.to_numeric(df[col],errors='coerce')\n",
    "    df[col] = dataset[col].astype(\"float\")\n",
    "        \n",
    "    # remove rows with missing values\n",
    "    col_list_for_row_removal = [] # list of subset of columns to use for above\n",
    "    df = df.dropna( subset = col_list_for_row_removal)\n",
    "    \n",
    "    # fill null values with the most common or desired value\n",
    "    df = df.fillna({'building_condition': \"UNKNOWN\"}) # recreate the example shown\n",
    "    \n",
    "    # fill missing values for numeric columns by the mean of that column\n",
    "    na_cols = df.isna().any()\n",
    "    for col in list(na_cols):\n",
    "        if df[col].dtype != 'object':\n",
    "             df[col] =  df[col].fillna(df[col].mean()).round(0)\n",
    "        \n",
    "    # remove duplicates that are the same in below features\n",
    "    col_list_for_duplicate_removal = []\n",
    "    cleaned_df = df.drop_duplicates(subset = col_list_for_duplicate_removal)\n",
    "    \n",
    "    # revalidate na's\n",
    "    if df.isna().sum().sum() != 0:\n",
    "        print('Missing values still present!')\n",
    "\n",
    "    return cleaned_df\n"
   ]
  },
  {
   "cell_type": "markdown",
   "id": "238ed18e",
   "metadata": {},
   "source": [
    "## Outlier Removal"
   ]
  },
  {
   "cell_type": "code",
   "execution_count": null,
   "id": "dc0f17d2",
   "metadata": {},
   "outputs": [],
   "source": []
  },
  {
   "cell_type": "markdown",
   "id": "5df14d72",
   "metadata": {},
   "source": [
    "# Main Script"
   ]
  },
  {
   "cell_type": "code",
   "execution_count": null,
   "id": "fcc4916f",
   "metadata": {},
   "outputs": [],
   "source": [
    "# Importing the dataset\n",
    "\n",
    "df = pd.read_csv(#path to file)\n",
    "    \n",
    "# all features \n",
    "variables = list(mushrooms)\n",
    "features = variables[1:]\n",
    "print(features)"
   ]
  }
 ],
 "metadata": {
  "kernelspec": {
   "display_name": "Python 3.8.10 64-bit",
   "language": "python",
   "name": "python3810jvsc74a57bd031f2aee4e71d21fbe5cf8b01ff0e069b9275f58929596ceb00d14d90e3e16cd6"
  },
  "language_info": {
   "codemirror_mode": {
    "name": "ipython",
    "version": 3
   },
   "file_extension": ".py",
   "mimetype": "text/x-python",
   "name": "python",
   "nbconvert_exporter": "python",
   "pygments_lexer": "ipython3",
   "version": "3.8.10"
  }
 },
 "nbformat": 4,
 "nbformat_minor": 5
}
